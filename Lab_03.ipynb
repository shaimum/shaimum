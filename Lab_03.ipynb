{
  "nbformat": 4,
  "nbformat_minor": 0,
  "metadata": {
    "colab": {
      "name": "Lab - 03.ipynb",
      "provenance": [],
      "authorship_tag": "ABX9TyNYMiaEH7noRVaF0IJqzU8o",
      "include_colab_link": true
    },
    "kernelspec": {
      "name": "python3",
      "display_name": "Python 3"
    },
    "language_info": {
      "name": "python"
    }
  },
  "cells": [
    {
      "cell_type": "markdown",
      "metadata": {
        "id": "view-in-github",
        "colab_type": "text"
      },
      "source": [
        "<a href=\"https://colab.research.google.com/github/shaimum/shaimum/blob/main/Lab_03.ipynb\" target=\"_parent\"><img src=\"https://colab.research.google.com/assets/colab-badge.svg\" alt=\"Open In Colab\"/></a>"
      ]
    },
    {
      "cell_type": "code",
      "metadata": {
        "colab": {
          "base_uri": "https://localhost:8080/"
        },
        "id": "I7a1NU3XfFB3",
        "outputId": "c06dccb9-1869-49a7-a43c-5a82d13c87f0"
      },
      "source": [
        "courses = []\n",
        "choice = 'random'\n",
        "def line():\n",
        "    print('---------------------------')\n",
        "\n",
        "def show_menu():\n",
        "    line()\n",
        "    print('MENU')\n",
        "    line()\n",
        "    print('1. Add courses')\n",
        "    print('2. Remove Courses from the list')\n",
        "    print('3. View courses list')\n",
        "    print('4. Exit')\n",
        "    line()\n",
        "    choice = input('Enter your choice: ')\n",
        "    return choice\n",
        "\n",
        "while choice != '4':\n",
        "    choice = show_menu()\n",
        "    if choice == '1':\n",
        "            course = input('Enter the course name: ')\n",
        "            courses.append(course)\n",
        "            print('Courses', course, 'added')\n",
        "    elif choice == '2':\n",
        "        course = input('which courses is done or you want to remove ')\n",
        "        if course in courses:\n",
        "            courses.remove(course)\n",
        "            print('Removed course', course)\n",
        "        else:\n",
        "            print('Could not find course', course)\n",
        "    elif choice == '3':\n",
        "        print('List of your all course:')\n",
        "        for course in courses:\n",
        "            print(course)\n",
        "    elif choice == '4':\n",
        "        print('Goodbye!')\n",
        "    else:\n",
        "        print('Please enter one of 1, 2, 3 ,4 ')"
      ],
      "execution_count": null,
      "outputs": [
        {
          "output_type": "stream",
          "name": "stdout",
          "text": [
            "---------------------------\n",
            "MENU\n",
            "---------------------------\n",
            "1. Add courses\n",
            "2. Remove Courses from the list\n",
            "3. View courses list\n",
            "4. Exit\n",
            "---------------------------\n",
            "Enter your choice: 1\n",
            "Enter the course name: CSE 101\n",
            "Courses CSE 101 added\n",
            "---------------------------\n",
            "MENU\n",
            "---------------------------\n",
            "1. Add courses\n",
            "2. Remove Courses from the list\n",
            "3. View courses list\n",
            "4. Exit\n",
            "---------------------------\n",
            "Enter your choice: 1\n",
            "Enter the course name: CSE 102\n",
            "Courses CSE 102 added\n",
            "---------------------------\n",
            "MENU\n",
            "---------------------------\n",
            "1. Add courses\n",
            "2. Remove Courses from the list\n",
            "3. View courses list\n",
            "4. Exit\n",
            "---------------------------\n",
            "Enter your choice: 3\n",
            "List of your all course:\n",
            "CSE 101\n",
            "CSE 102\n",
            "---------------------------\n",
            "MENU\n",
            "---------------------------\n",
            "1. Add courses\n",
            "2. Remove Courses from the list\n",
            "3. View courses list\n",
            "4. Exit\n",
            "---------------------------\n",
            "Enter your choice: 4\n",
            "Goodbye!\n"
          ]
        }
      ]
    }
  ]
}